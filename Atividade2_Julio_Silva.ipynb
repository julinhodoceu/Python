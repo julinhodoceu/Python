{
  "nbformat": 4,
  "nbformat_minor": 0,
  "metadata": {
    "colab": {
      "provenance": [],
      "authorship_tag": "ABX9TyPfyfcYn34Mlb9VjKP2RaeZ",
      "include_colab_link": true
    },
    "kernelspec": {
      "name": "python3",
      "display_name": "Python 3"
    },
    "language_info": {
      "name": "python"
    }
  },
  "cells": [
    {
      "cell_type": "markdown",
      "metadata": {
        "id": "view-in-github",
        "colab_type": "text"
      },
      "source": [
        "<a href=\"https://colab.research.google.com/github/julinhodoceu/Python/blob/main/Atividade2_Julio_Silva.ipynb\" target=\"_parent\"><img src=\"https://colab.research.google.com/assets/colab-badge.svg\" alt=\"Open In Colab\"/></a>"
      ]
    },
    {
      "cell_type": "markdown",
      "source": [
        "##Exercício 2\n",
        "\n",
        "Meta de vendas: 50.000 unidades.\n",
        "Usuário vai informar quantas unidades do produto foram vendidas.\n",
        "\n",
        "Se a meta não for atingida, o programa deverá informar que a meta não foi atingida e ninguém recebe bonus.\n",
        "Se a meta for atingida com menos de 500 unidades de diferença, o programa informa que a meta foi atingida e que os vendedores ganharão 5% de bonus.\n",
        "Se a meta for ultrapassada em mais de 500 unidades, os vendedores receberão bonus de 15%."
      ],
      "metadata": {
        "id": "sgIQS0AOA7pm"
      }
    },
    {
      "cell_type": "code",
      "execution_count": null,
      "metadata": {
        "id": "pISHA-YGA2os"
      },
      "outputs": [],
      "source": [
        "nome = input('Qual seu nome? \\n')\n",
        "\n",
        "print('\\nBem vindo, {}!, à sua calculadora de metas.\\n'.format(nome))\n",
        "\n",
        "vendas = int(input('insira a quantidade de vendas deste mês:\\n'))\n",
        "if vendas < 49500:\n",
        " print ('Poxa, infelizmente a meta de 50 mil não foi batida, nenhum vendedor receberá bônus, quem sabe no próximo mês :(')\n",
        "elif vendas >= 49500 and vendas <= 50499:\n",
        "  print ('Ebaa!! Parabéns, vocês bateram a meta do mês, os vendedores receberão 5% de bônus este mês :)')\n",
        "else:\n",
        "  print ('Uauuuu! Vocês além de baterem, ultrapassaram a meta! Os vendedores ganharão 15% de bônus este mês :D')\n"
      ]
    }
  ]
}