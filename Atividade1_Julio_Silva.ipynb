{
  "nbformat": 4,
  "nbformat_minor": 0,
  "metadata": {
    "colab": {
      "provenance": []
    },
    "kernelspec": {
      "name": "python3",
      "display_name": "Python 3"
    },
    "language_info": {
      "name": "python"
    }
  },
  "cells": [
    {
      "cell_type": "markdown",
      "source": [
        "#Calculadora de Peso Ideal"
      ],
      "metadata": {
        "id": "jt4yvqNvtSTQ"
      }
    },
    {
      "cell_type": "code",
      "execution_count": 35,
      "metadata": {
        "colab": {
          "base_uri": "https://localhost:8080/"
        },
        "id": "yWFL1oQFtIeT",
        "outputId": "d159d667-8804-4e8b-a093-78d7ce2c701d"
      },
      "outputs": [
        {
          "output_type": "stream",
          "name": "stdout",
          "text": [
            "Olá, bem vindo a calculadora de Peso Ideal! \n",
            "Por favor, digite seu peso:\n",
            "40\n",
            "\n",
            "Agora digite sua altura (para separação dos números decimais, utilize .):\n",
            "1.62\n",
            "\n",
            "Qual seu sexo biológico? (Digite M para Masculino ou F para Feminino\n",
            "f\n",
            "Ehhh garota, você está com 40KG, o ideal seria 55.90, está um pouquinho abaixo do peso, você precisa engordar 15.90KG, se esforçando jaja estará igual a modelo Gisele Bündchen 💕😘\n"
          ]
        }
      ],
      "source": [
        "print (\"Olá, bem vindo a calculadora de Peso Ideal! \\nPor favor, digite seu peso:\")\n",
        "peso = int(input())\n",
        "\n",
        "print (\"\\nAgora digite sua altura (para separação dos números decimais, utilize .):\")\n",
        "altura = float(input())\n",
        "\n",
        "print (\"\\nQual seu sexo biológico? (Digite M para Masculino ou F para Feminino\")\n",
        "sexo = (input())\n",
        "\n",
        "mpeso = (72.7 * altura) - 58\n",
        "fpeso = (62.1 * altura) - 44.7\n",
        "\n",
        "mpesofalta = peso - mpeso\n",
        "mpesomais = mpeso - peso\n",
        "\n",
        "fpesofalta = peso - fpeso\n",
        "fpesomais = fpeso - peso\n",
        "\n",
        "if sexo == \"m\" and peso > mpeso:\n",
        "  print (\"Ehhh garoto, você está com {}KG, o ideal seria {:.2f}, está um pouquinho acima do peso, você precisa emagrecer {:.2f}KG, se esforçando jaja estará igual a modelo Gisele Bündchen 💕😘\".format (peso, mpeso, mpesofalta))\n",
        "elif sexo == \"m\" and peso < mpeso:\n",
        "  print (\"Ehhh garoto, você está com {}KG, o ideal seria {:.2f}, está um pouquinho abaixo do peso, você precisa engordar {:.2f}KG, se esforçando jaja estará igual a modelo Gisele Bündchen 💕😘\".format (peso, mpeso, mpesomais))\n",
        "elif sexo == \"f\" and peso > fpeso:\n",
        "  print (\"Ehhh garota, você está com {}KG, o ideal seria {:.2f}, está um pouquinho acima do peso, você precisa emagrecer {:.2f}KG, se esforçando jaja estará igual a modelo Gisele Bündchen 💕😘\".format (peso, fpeso, fpesofalta))\n",
        "elif sexo == \"f\" and peso < fpeso:\n",
        "  print (\"Ehhh garota, você está com {}KG, o ideal seria {:.2f}, está um pouquinho abaixo do peso, você precisa engordar {:.2f}KG, se esforçando jaja estará igual a modelo Gisele Bündchen 💕😘\".format (peso, fpeso, fpesomais))"
      ]
    }
  ]
}